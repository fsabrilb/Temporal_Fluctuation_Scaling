{
 "cells": [
  {
   "cell_type": "markdown",
   "id": "32a575ef-7fd6-428e-ae7c-15c0e99049f7",
   "metadata": {},
   "source": [
    "# Estimate temporal fluctuation scaling(TFS)"
   ]
  },
  {
   "cell_type": "code",
   "execution_count": 1,
   "id": "f0ea4793-13c9-45f2-bff0-1938ae63a90b",
   "metadata": {
    "tags": []
   },
   "outputs": [],
   "source": [
    "import os\n",
    "import re\n",
    "import sys\n",
    "import json\n",
    "import warnings\n",
    "import subprocess\n",
    "import numpy as np\n",
    "import pandas as pd\n",
    "import yfinance as yf\n",
    "import datetime as dt\n",
    "\n",
    "from tqdm import tqdm\n",
    "from scipy.stats import norm\n",
    "from functools import partial\n",
    "from scipy.optimize import curve_fit\n",
    "from multiprocessing import Pool, cpu_count\n",
    "\n",
    "sys.path.append('../modules')\n",
    "import estimate_optimal_window as eow\n",
    "import estimate_temporal_fluctuation_scaling as etfs\n",
    "\n",
    "warnings.filterwarnings(\"ignore\")\n",
    "pd.options.mode.chained_assignment = None\n",
    "pd.set_option('display.max_columns', None)"
   ]
  },
  {
   "cell_type": "markdown",
   "id": "7dd1fec1-eba8-4188-b926-93a54748ae86",
   "metadata": {},
   "source": [
    "## Global variables"
   ]
  },
  {
   "cell_type": "code",
   "execution_count": 2,
   "id": "08dae47a-2eca-407c-ad84-4872c9f76748",
   "metadata": {
    "tags": []
   },
   "outputs": [],
   "source": [
    "input_path_raw = \"../input_files/raw_data\"\n",
    "input_path_processed = \"../input_files/processed_data\"\n",
    "input_path_data_dictionary = \"../input_files/data_dictionary\"\n",
    "log_path = \"../logs\"\n",
    "output_path = \"../output_files\"\n",
    "input_generation_date = \"2023-04-11\""
   ]
  },
  {
   "cell_type": "markdown",
   "id": "e0c24245-1c01-45b8-9ef2-df6dbd433ec6",
   "metadata": {},
   "source": [
    "## Load time series"
   ]
  },
  {
   "cell_type": "code",
   "execution_count": 3,
   "id": "d07cb237-8489-4648-993c-f5eeafad1849",
   "metadata": {
    "tags": []
   },
   "outputs": [],
   "source": [
    "df_stock_indexes = pd.read_csv(\"{}/df_stock_index_{}.csv\".format(input_path_processed, re.sub(\"-\", \"\", input_generation_date)), low_memory = False)\n",
    "df_currencies = pd.read_csv(\"{}/df_currency_{}.csv\".format(input_path_processed, re.sub(\"-\", \"\", input_generation_date)), low_memory = False)"
   ]
  },
  {
   "cell_type": "code",
   "execution_count": null,
   "id": "194a2200-bc31-43bc-a7a9-3c27539302c0",
   "metadata": {
    "tags": []
   },
   "outputs": [
    {
     "name": "stderr",
     "output_type": "stream",
     "text": [
      " 29%|████          | 38210/130283 [36:30<1:47:32, 14.27it/s]"
     ]
    }
   ],
   "source": [
    "df_stock_indexes_parameters = etfs.estimate_tfs_parameters(\n",
    "    df_fts = df_stock_indexes,\n",
    "    minimal_steps = 30,\n",
    "    p_norm = 1,\n",
    "    log_path = log_path,\n",
    "    log_filename = \"log_stock_index_tfs_optimal_window_{}\".format(re.sub(\"-\", \"\", input_generation_date)),\n",
    "    verbose = 1,\n",
    "    tqdm_bar = True\n",
    ")\n",
    "df_stock_indexes_parameters"
   ]
  },
  {
   "cell_type": "code",
   "execution_count": null,
   "id": "bfbf907a-e203-4eaa-8ee2-f1b7d1504bc0",
   "metadata": {
    "tags": []
   },
   "outputs": [],
   "source": [
    "df_currencies_parameters = etfs.estimate_tfs_parameters(\n",
    "    df_fts = df_currencies,\n",
    "    minimal_steps = 30,\n",
    "    p_norm = 1,\n",
    "    log_path = log_path,\n",
    "    log_filename = \"log_currency_tfs_optimal_window_{}\".format(re.sub(\"-\", \"\", input_generation_date)),\n",
    "    verbose = 1,\n",
    "    tqdm_bar = True\n",
    ")\n",
    "df_currencies_parameters"
   ]
  },
  {
   "cell_type": "markdown",
   "id": "08df9414-131c-43b0-8eb9-88cf5a7c6192",
   "metadata": {},
   "source": [
    "## Save optimal window size for no reprocessing"
   ]
  },
  {
   "cell_type": "code",
   "execution_count": null,
   "id": "ba6027d7-f363-40a7-b4be-5288176a4379",
   "metadata": {
    "tags": []
   },
   "outputs": [],
   "source": [
    "df_stock_indexes_parameters.to_csv(\"{}/df_stock_index_tfs_parameters_{}.csv\".format(input_path_processed, re.sub(\"-\", \"\", input_generation_date)) , index = False)\n",
    "df_currencies_parameters.to_csv(\"{}/df_currency_tfs_parameters_{}.csv\".format(input_path_processed, re.sub(\"-\", \"\", input_generation_date)) , index = False)"
   ]
  }
 ],
 "metadata": {
  "kernelspec": {
   "display_name": "Python 3 (ipykernel)",
   "language": "python",
   "name": "python3"
  },
  "language_info": {
   "codemirror_mode": {
    "name": "ipython",
    "version": 3
   },
   "file_extension": ".py",
   "mimetype": "text/x-python",
   "name": "python",
   "nbconvert_exporter": "python",
   "pygments_lexer": "ipython3",
   "version": "3.9.7"
  }
 },
 "nbformat": 4,
 "nbformat_minor": 5
}
